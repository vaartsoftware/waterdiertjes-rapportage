{
 "cells": [
  {
   "cell_type": "markdown",
   "id": "4680309e",
   "metadata": {},
   "source": [
    "# Imports"
   ]
  },
  {
   "cell_type": "code",
   "execution_count": null,
   "id": "cb3c64e6",
   "metadata": {},
   "outputs": [],
   "source": [
    "import pandas as pd\n",
    "import geopandas as gpd\n",
    "import numpy as np\n",
    "import contextily as cx\n",
    "from branca.colormap import StepColormap\n",
    "import matplotlib.pyplot as plt\n",
    "import folium\n",
    "from folium import plugins\n",
    "from mpl_toolkits.axes_grid1 import make_axes_locatable"
   ]
  },
  {
   "cell_type": "markdown",
   "id": "5d173f34",
   "metadata": {},
   "source": [
    "# Load data"
   ]
  },
  {
   "cell_type": "markdown",
   "id": "4c130dd7",
   "metadata": {},
   "source": [
    "## Waterdiertjes dataset"
   ]
  },
  {
   "cell_type": "code",
   "execution_count": null,
   "id": "91fe5b16",
   "metadata": {},
   "outputs": [],
   "source": [
    "df = pd.read_csv(\"../.data/in/waterdiertjes_cleaned.csv\")"
   ]
  },
  {
   "cell_type": "markdown",
   "id": "7fc66bd1",
   "metadata": {},
   "source": [
    "Jaar als kolom toevoegen"
   ]
  },
  {
   "cell_type": "code",
   "execution_count": null,
   "id": "57b17c0b",
   "metadata": {},
   "outputs": [],
   "source": [
    "df['Datum2'] = pd.to_datetime(df['Datum'], format='%Y-%m-%d', errors = 'coerce')\n",
    "df_temp = df[df['Datum2'].isna()]\n",
    "df.loc[df_temp.index, 'Datum']= '2018-01-01'\n",
    "df['Datum'] = pd.to_datetime(df['Datum'])\n",
    "df['Jaar'] = df['Datum'].dt.year\n",
    "df.drop('Datum2', axis=1, inplace=True)"
   ]
  },
  {
   "cell_type": "code",
   "execution_count": null,
   "id": "6b0fb35d",
   "metadata": {},
   "outputs": [],
   "source": [
    "df.head(10)"
   ]
  },
  {
   "cell_type": "markdown",
   "id": "3758624d",
   "metadata": {},
   "source": [
    "Filter NL"
   ]
  },
  {
   "cell_type": "code",
   "execution_count": null,
   "id": "858b9b88",
   "metadata": {},
   "outputs": [],
   "source": [
    "len(df)"
   ]
  },
  {
   "cell_type": "code",
   "execution_count": null,
   "id": "c0b49270",
   "metadata": {},
   "outputs": [],
   "source": [
    "df2 = df[(df['lat'] > 45) & (df['lat'] < 60) & (df['lon'] > 2) & (df['lon'] < 8)]\n",
    "df2.head(10)"
   ]
  },
  {
   "cell_type": "code",
   "execution_count": null,
   "id": "f329ea00",
   "metadata": {},
   "outputs": [],
   "source": [
    "len(df2)"
   ]
  },
  {
   "cell_type": "code",
   "execution_count": null,
   "id": "51c9c55b",
   "metadata": {},
   "outputs": [],
   "source": [
    "df2 = df2[df2['Ongeldig']==False]\n",
    "len(df2)"
   ]
  },
  {
   "cell_type": "markdown",
   "id": "f8e8008f",
   "metadata": {},
   "source": [
    "## Waterschappen dataset"
   ]
  },
  {
   "cell_type": "code",
   "execution_count": null,
   "id": "aca63c95",
   "metadata": {},
   "outputs": [],
   "source": [
    "waterschappen = gpd.read_file('../.data/in/waterschapsgebieden.json')\n",
    "water_nl = waterschappen.to_crs(epsg=4326)"
   ]
  },
  {
   "cell_type": "code",
   "execution_count": null,
   "id": "7a5e93a1",
   "metadata": {},
   "outputs": [],
   "source": [
    "f,ax = plt.subplots(1,1, figsize=(10, 8), sharex=True, sharey=True, dpi=140)\n",
    "plt.title('waterschappen')\n",
    "divider = make_axes_locatable(ax)\n",
    "# cax = divider.append_axes(\"right\", size=\"3%\",pad=0,alpha=0.5)\n",
    "waterschappen.plot('text', ax=ax, alpha=0.5, cmap='viridis', edgecolor='k', legend=False, linewidth=0.1)\n",
    "plt.show()"
   ]
  },
  {
   "cell_type": "markdown",
   "id": "a96bd7b7",
   "metadata": {},
   "source": [
    "# Waarnemingen in waterschapsgebieden"
   ]
  },
  {
   "cell_type": "code",
   "execution_count": null,
   "id": "60dddb63",
   "metadata": {},
   "outputs": [],
   "source": [
    "size = (30,24)\n",
    "gdf = gpd.GeoDataFrame(\n",
    "    df2, crs='epsg:4326', geometry=gpd.points_from_xy(df2.lon, df2.lat))\n",
    "\n",
    "ax = waterschappen.to_crs(epsg=4326).plot(figsize=size, alpha=1, edgecolor='#fff', color='#555')\n",
    "cx.add_basemap(ax, crs=water_nl.crs, source=cx.providers.CartoDB.Positron)\n",
    "gdf.plot(column='Cijfer waterkwaliteit', ax=ax, cmap='RdYlGn', figsize=size, legend=True)"
   ]
  },
  {
   "cell_type": "markdown",
   "id": "3dd17b1d",
   "metadata": {},
   "source": [
    "# Merge waarnemingen met waterschapsgebieden"
   ]
  },
  {
   "cell_type": "code",
   "execution_count": null,
   "id": "4634de6d",
   "metadata": {},
   "outputs": [],
   "source": [
    "waterschappen = waterschappen.to_crs(epsg=4326)\n",
    "gdf = gpd.GeoDataFrame(\n",
    "    df2, crs='epsg:4326', geometry=gpd.points_from_xy(df2.lon, df2.lat))\n",
    "\n",
    "within_waterschappen = gpd.sjoin(gdf, waterschappen, how=\"inner\", predicate='within')\n",
    "\n",
    "within_waterschappen.head(10)"
   ]
  },
  {
   "cell_type": "markdown",
   "id": "b77b15cb",
   "metadata": {},
   "source": [
    "# Waterkwaliteit in waterschapsgebieden"
   ]
  },
  {
   "cell_type": "code",
   "execution_count": null,
   "id": "200952aa",
   "metadata": {},
   "outputs": [],
   "source": [
    "stats = within_waterschappen.groupby('text').agg({'Cijfer waterkwaliteit':'mean'})\n",
    "result = pd.merge(waterschappen, stats, left_on='text',right_index=True,how='outer')"
   ]
  },
  {
   "cell_type": "markdown",
   "id": "55304c68",
   "metadata": {},
   "source": [
    "## Map"
   ]
  },
  {
   "cell_type": "code",
   "execution_count": null,
   "id": "61115362",
   "metadata": {},
   "outputs": [],
   "source": [
    "colors = [\"#f64242\",\"#f95444\",\"#fc6646\", \"#ff7949\", \"#ffa530\", \"#ffd218\", \"#fff500\", \"#baf222\", \"#75e645\", \"#31da68\"]\n",
    "vmin = 0\n",
    "vmax = 10\n",
    "vstep = 1\n",
    "nums = np.arange(vmin,vmax + vstep,vstep)\n",
    "colormap2 = StepColormap(colors,nums,vmin,vmax, 'Indicatie waterkwaliteit')\n",
    "result.explore(column='Cijfer waterkwaliteit', tooltip=['Cijfer waterkwaliteit', 'text'], tiles=None, cmap=colormap2, control_scale=True, style_kwds=dict(fillOpacity=1, color=\"#666\", weight=.5))"
   ]
  },
  {
   "cell_type": "markdown",
   "id": "2f1db9f9",
   "metadata": {},
   "source": [
    "# Waarnemingen in waterschapsgebieden"
   ]
  },
  {
   "cell_type": "code",
   "execution_count": null,
   "id": "ebc65fa9",
   "metadata": {},
   "outputs": [],
   "source": [
    "countscumulative = within_waterschappen.groupby(['text']).agg({'Meting ID':'count'})\n",
    "countscumulative.sort_values(by='Meting ID', ascending=False)\n",
    "\n",
    "output = countscumulative.apply(lambda x:pd.cut(x, bins=[0,50,100,200,500,1000]))\n",
    "output = countscumulative.join(output.add_prefix('bin_'))\n",
    "\n",
    "result = pd.merge(waterschappen, output, on='text', how='outer')\n",
    "\n",
    "ax = result.plot(column='bin_Meting ID', cmap='magma_r', figsize=(20,16), legend=True, edgecolor='#444')\n",
    "ax.get_legend().set_bbox_to_anchor((1.4, 1))\n",
    "ax.set(facecolor = \"#dddddd\")"
   ]
  },
  {
   "cell_type": "markdown",
   "id": "9a05b5be",
   "metadata": {},
   "source": [
    "# Waarnemingen heatmap"
   ]
  },
  {
   "cell_type": "markdown",
   "id": "e4333e94",
   "metadata": {},
   "source": [
    "## Cumulatief"
   ]
  },
  {
   "cell_type": "code",
   "execution_count": null,
   "id": "f38a335b",
   "metadata": {},
   "outputs": [],
   "source": [
    "# alle jaargangen bij elkaar\n",
    "heatmap = folium.Map(location = [52, 5], tiles='Cartodb positron', zoom_start = 7)\n",
    "heat_data = [[point.xy[1][0], point.xy[0][0]] for point in within_waterschappen.geometry ]\n",
    "plugins.HeatMap(heat_data, radius=8, blur=4).add_to(heatmap)\n",
    "\n",
    "heatmap"
   ]
  },
  {
   "cell_type": "markdown",
   "id": "475d3d4a",
   "metadata": {},
   "source": [
    "## 2018"
   ]
  },
  {
   "cell_type": "code",
   "execution_count": null,
   "id": "4f92e0a7",
   "metadata": {},
   "outputs": [],
   "source": [
    "jaar = 2018\n",
    "heatmap = folium.Map(location = [52, 5], tiles='Cartodb positron', zoom_start = 7)\n",
    "heat_data = [[point.xy[1][0], point.xy[0][0]] for point in within_waterschappen[within_waterschappen['Jaar']==jaar].geometry ]\n",
    "plugins.HeatMap(heat_data, radius=8, blur=4).add_to(heatmap)\n",
    "\n",
    "heatmap"
   ]
  },
  {
   "cell_type": "markdown",
   "id": "41364574",
   "metadata": {},
   "source": [
    "## 2019"
   ]
  },
  {
   "cell_type": "code",
   "execution_count": null,
   "id": "319980f8",
   "metadata": {},
   "outputs": [],
   "source": [
    "jaar = 2019\n",
    "heatmap = folium.Map(location = [52, 5], tiles='Cartodb positron', zoom_start = 7)\n",
    "heat_data = [[point.xy[1][0], point.xy[0][0]] for point in within_waterschappen[within_waterschappen['Jaar']==jaar].geometry ]\n",
    "plugins.HeatMap(heat_data, radius=8, blur=4).add_to(heatmap)\n",
    "\n",
    "heatmap"
   ]
  },
  {
   "cell_type": "markdown",
   "id": "c158712e",
   "metadata": {},
   "source": [
    "## 2020"
   ]
  },
  {
   "cell_type": "code",
   "execution_count": null,
   "id": "e4e41eb4",
   "metadata": {},
   "outputs": [],
   "source": [
    "jaar = 2020\n",
    "heatmap = folium.Map(location = [52, 5], tiles='Cartodb positron', zoom_start = 7)\n",
    "heat_data = [[point.xy[1][0], point.xy[0][0]] for point in within_waterschappen[within_waterschappen['Jaar']==jaar].geometry ]\n",
    "plugins.HeatMap(heat_data, radius=8, blur=4).add_to(heatmap)\n",
    "\n",
    "heatmap"
   ]
  },
  {
   "cell_type": "markdown",
   "id": "de807933",
   "metadata": {},
   "source": [
    "## 2021"
   ]
  },
  {
   "cell_type": "code",
   "execution_count": null,
   "id": "11874065",
   "metadata": {},
   "outputs": [],
   "source": [
    "jaar = 2021\n",
    "heatmap = folium.Map(location = [52, 5], tiles='Cartodb positron', zoom_start = 7)\n",
    "heat_data = [[point.xy[1][0], point.xy[0][0]] for point in within_waterschappen[within_waterschappen['Jaar']==jaar].geometry ]\n",
    "plugins.HeatMap(heat_data, radius=8, blur=4).add_to(heatmap)\n",
    "\n",
    "heatmap"
   ]
  },
  {
   "cell_type": "markdown",
   "id": "a2059f89",
   "metadata": {},
   "source": [
    "# Dataset opslaan"
   ]
  },
  {
   "cell_type": "code",
   "execution_count": null,
   "id": "682f5ca7",
   "metadata": {},
   "outputs": [],
   "source": [
    "# inclusief:\n",
    "# - waterschappen (text-kolom)\n",
    "# - jaar-kolom\n",
    "\n",
    "within_waterschappen.to_csv('../.data/out/waterdiertjes_en_waterschappen.csv', index=True)"
   ]
  }
 ],
 "metadata": {
  "kernelspec": {
   "display_name": "Python 3 (ipykernel)",
   "language": "python",
   "name": "python3"
  },
  "language_info": {
   "codemirror_mode": {
    "name": "ipython",
    "version": 3
   },
   "file_extension": ".py",
   "mimetype": "text/x-python",
   "name": "python",
   "nbconvert_exporter": "python",
   "pygments_lexer": "ipython3",
   "version": "3.10.1"
  },
  "toc": {
   "base_numbering": 1,
   "nav_menu": {},
   "number_sections": true,
   "sideBar": true,
   "skip_h1_title": false,
   "title_cell": "Table of Contents",
   "title_sidebar": "Contents",
   "toc_cell": false,
   "toc_position": {},
   "toc_section_display": true,
   "toc_window_display": false
  },
  "varInspector": {
   "cols": {
    "lenName": 16,
    "lenType": 16,
    "lenVar": 40
   },
   "kernels_config": {
    "python": {
     "delete_cmd_postfix": "",
     "delete_cmd_prefix": "del ",
     "library": "var_list.py",
     "varRefreshCmd": "print(var_dic_list())"
    },
    "r": {
     "delete_cmd_postfix": ") ",
     "delete_cmd_prefix": "rm(",
     "library": "var_list.r",
     "varRefreshCmd": "cat(var_dic_list()) "
    }
   },
   "types_to_exclude": [
    "module",
    "function",
    "builtin_function_or_method",
    "instance",
    "_Feature"
   ],
   "window_display": false
  }
 },
 "nbformat": 4,
 "nbformat_minor": 5
}
